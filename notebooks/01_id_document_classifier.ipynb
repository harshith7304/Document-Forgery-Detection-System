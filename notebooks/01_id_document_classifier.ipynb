{
 "cells": [
  {
   "cell_type": "markdown",
   "metadata": {},
   "source": [
    "# **Step 1:** Document Classification Model"
   ]
  },
  {
   "cell_type": "code",
   "execution_count": null,
   "metadata": {},
   "outputs": [],
   "source": [
    "original_path = '/content/indian-document-forgery-detection/dataset'\n",
    "\n",
    "# Destination paths\n",
    "train_path = os.path.join(original_path, 'train')\n",
    "val_path = os.path.join(original_path, 'val')\n",
    "test_path = os.path.join(original_path, 'test')\n",
    "\n",
    "# Create directories if they don't exist\n",
    "for path in [train_path, val_path, test_path]:\n",
    "    os.makedirs(path, exist_ok=True)"
   ]
  },
  {
   "cell_type": "code",
   "execution_count": null,
   "metadata": {},
   "outputs": [],
   "source": [
    "## DEFINE CLASSES AND SAMPLE SIZES ##\n",
    "\n",
    "## Define classes in the dataset\n",
    "classes = [\"ID\", \"Not_ID\"]\n",
    "\n",
    "## Set the number of samples for training, validation, and testing\n",
    "train_s = 210\n",
    "validation_s = 60\n",
    "test_s = 30"
   ]
  },
  {
   "cell_type": "code",
   "execution_count": null,
   "metadata": {},
   "outputs": [],
   "source": [
    "## FUNCTION TO COPY RANDOM SAMPLES ##\n",
    "\n",
    "## Define a function to copy a specified number of random samples from source to destination\n",
    "def copy_random_samples(src_dir, dest_dir, samples):\n",
    "    files = random.sample(os.listdir(src_dir), samples)\n",
    "    for file in files:\n",
    "        src_path = os.path.join(src_dir, file)\n",
    "        dest_path = os.path.join(dest_dir, file)\n",
    "        shutil.copy(src_path, dest_path)\n",
    "\n",
    "## COPY SAMPLES FOR TRAINING ##\n",
    "\n",
    "## Iterate over classes to copy random samples for training\n",
    "for class_name in classes:\n",
    "    src_class_dir = os.path.join(original_path, class_name)\n",
    "    dest_class_dir = os.path.join(train_path, class_name)\n",
    "    os.makedirs(dest_class_dir, exist_ok=True)\n",
    "    copy_random_samples(src_class_dir, dest_class_dir, train_s)\n",
    "\n",
    "## COPY SAMPLES FOR VALIDATION ##\n",
    "\n",
    "## Iterate over classes to copy random samples for validation\n",
    "for class_name in classes:\n",
    "    src_class_dir = os.path.join(original_path, class_name)\n",
    "    dest_class_dir = os.path.join(val_path, class_name)\n",
    "    os.makedirs(dest_class_dir, exist_ok=True)\n",
    "    copy_random_samples(src_class_dir, dest_class_dir, validation_s)\n",
    "\n",
    "## COPY SAMPLES FOR TESTING ##\n",
    "\n",
    "## Iterate over classes to copy random samples for testing\n",
    "for class_name in classes:\n",
    "    src_class_dir = os.path.join(original_path, class_name)\n",
    "    dest_class_dir = os.path.join(test_path, class_name)\n",
    "    os.makedirs(dest_class_dir, exist_ok=True)\n",
    "    copy_random_samples(src_class_dir, dest_class_dir, test_s)"
   ]
  },
  {
   "cell_type": "code",
   "execution_count": null,
   "metadata": {},
   "outputs": [],
   "source": [
    "test_path= \"/content/indian-document-forgery-detection/dataset/test\"\n",
    "train_path= \"/content/indian-document-forgery-detection/dataset/train\"\n",
    "val_path= \"/content/indian-document-forgery-detection/dataset/val\""
   ]
  },
  {
   "cell_type": "code",
   "execution_count": null,
   "metadata": {},
   "outputs": [],
   "source": [
    "## Defining a function to count the data instants\n",
    "def count_images_in_category(category_dir):\n",
    "    return len(os.listdir(category_dir))\n",
    "\n",
    "##Looping over the classes for training category\n",
    "for class_name in classes:\n",
    "    train_category= os.path.join(train_path, class_name)\n",
    "    count= count_images_in_category(train_category)\n",
    "    print(f\"Number of images in {class_name} training category: {count}\")"
   ]
  },
  {
   "cell_type": "code",
   "execution_count": null,
   "metadata": {},
   "outputs": [],
   "source": [
    "for class_name in classes:\n",
    "    test_category= os.path.join(test_path, class_name)\n",
    "    count = count_images_in_category(test_category)\n",
    "    print(f\"Number of images in {class_name} category (Testing): {count}\")"
   ]
  },
  {
   "cell_type": "code",
   "execution_count": null,
   "metadata": {},
   "outputs": [],
   "source": [
    "for class_name in classes:\n",
    "    val_category= os.path.join(val_path, class_name)\n",
    "    count = count_images_in_category(val_category)\n",
    "    print(f\"Number of images in {class_name} category (Validation): {count}\")"
   ]
  },
  {
   "cell_type": "code",
   "execution_count": null,
   "metadata": {},
   "outputs": [],
   "source": [
    "model = Sequential([\n",
    "    Conv2D(32,(3,3) , activation = \"relu\" , input_shape = (244,244,3)) , # 32 is the number of filters , (3,3) is the size of the filter , input shape is the size of images the models is expecting\n",
    "    MaxPooling2D((2,2)),\n",
    "    Conv2D(32,(3,3) , activation = \"relu\" ),\n",
    "    MaxPooling2D((2,2)),\n",
    "    Flatten(),\n",
    "    Dense(64, activation = 'relu'), # 64 neurons\n",
    "    Dense(1, activation = 'sigmoid') # 1 output neuron\n",
    "\n",
    "])\n",
    "model.summary()"
   ]
  },
  {
   "cell_type": "code",
   "execution_count": null,
   "metadata": {},
   "outputs": [],
   "source": [
    "import tensorflow as tf\n",
    "from tensorflow.keras.preprocessing.image import ImageDataGenerator\n",
    "\n",
    "\n",
    "train_datagen = ImageDataGenerator(\n",
    "    rescale=1./255,\n",
    "    rotation_range=5,\n",
    "    zoom_range=0.2,\n",
    "    horizontal_flip=True,\n",
    "    vertical_flip=True,\n",
    "\n",
    ")\n",
    "\n",
    "val_datagen = ImageDataGenerator(rescale=1./255)\n",
    "test_datagen = ImageDataGenerator(rescale=1./255)\n",
    "\n",
    "train_generator = train_datagen.flow_from_directory(\n",
    "    train_path,\n",
    "    target_size=(244, 244),\n",
    "    batch_size=32,\n",
    "    class_mode='binary'\n",
    ")\n",
    "\n",
    "val_generator = val_datagen.flow_from_directory(\n",
    "    val_path,\n",
    "    target_size=(244, 244),\n",
    "    batch_size=32,\n",
    "    class_mode='binary'\n",
    ")"
   ]
  },
  {
   "cell_type": "code",
   "execution_count": null,
   "metadata": {},
   "outputs": [],
   "source": [
    "model.compile(loss =\"binary_crossentropy\" , optimizer=\"adam\" , metrics=['accuracy'])"
   ]
  },
  {
   "cell_type": "code",
   "execution_count": null,
   "metadata": {},
   "outputs": [],
   "source": [
    "# Train the model and save the training history\n",
    "history = model.fit(\n",
    "    train_generator,\n",
    "    steps_per_epoch=train_generator.samples // train_generator.batch_size,\n",
    "    epochs=10,  # You can adjust the number of epochs\n",
    "    validation_data=val_generator,\n",
    "    validation_steps=val_generator.samples // val_generator.batch_size\n",
    ")"
   ]
  },
  {
   "cell_type": "code",
   "execution_count": null,
   "metadata": {},
   "outputs": [],
   "source": [
    "# Plot the learning curve\n",
    "plt.plot(history.history['accuracy'])\n",
    "plt.plot(history.history['val_accuracy'])\n",
    "plt.title('Model Accuracy')\n",
    "plt.xlabel('Epoch')\n",
    "plt.ylabel('Accuracy')\n",
    "plt.legend(['Train', 'Validation'], loc='upper left')\n",
    "plt.show()"
   ]
  },
  {
   "cell_type": "code",
   "execution_count": null,
   "metadata": {},
   "outputs": [],
   "source": [
    "test_generator = test_datagen.flow_from_directory(\n",
    "    test_path,\n",
    "    target_size=(244, 244),\n",
    "    batch_size=32,\n",
    "    class_mode='binary',\n",
    "    shuffle=False)\n",
    "\n",
    "results = model.evaluate(test_generator)\n",
    "print(\"Test Loss:\", results[0])\n",
    "print(\"Test Accuracy:\", results[1])"
   ]
  },
  {
   "cell_type": "code",
   "execution_count": null,
   "metadata": {},
   "outputs": [],
   "source": [
    "import seaborn as sns\n",
    "from sklearn.metrics import classification_report, confusion_matrix\n",
    "test_generator = test_datagen.flow_from_directory(\n",
    "    test_path,\n",
    "    target_size=(244, 244),\n",
    "    batch_size=32,\n",
    "    class_mode='binary',\n",
    "    shuffle=False)\n",
    "\n",
    "y_pred = model.predict(test_generator)\n",
    "y_pred_classes = (y_pred > 0.5).astype(int)\n",
    "\n",
    "y_true = test_generator.classes\n",
    "\n",
    "plt.figure(figsize=(8, 6))\n",
    "sns.heatmap(confusion_matrix(y_true, y_pred_classes), annot=True, fmt='d', cmap='Blues',\n",
    "            xticklabels=[\"ID\", \"Not_ID\"],\n",
    "            yticklabels=[\"ID \", \"Not_ID\"])\n",
    "plt.title('Confusion Matrix')\n",
    "plt.xlabel('Predicted')\n",
    "plt.ylabel('True')\n",
    "plt.show()"
   ]
  },
  {
   "cell_type": "code",
   "execution_count": null,
   "metadata": {},
   "outputs": [],
   "source": [
    "filenames = test_generator.filenames\n",
    "for i in range(len(filenames)):\n",
    "    img_path = os.path.join(test_path, filenames[i])\n",
    "    img = image.load_img(img_path, target_size=(244, 244))\n",
    "    img_array = image.img_to_array(img)\n",
    "    img_array = np.expand_dims(img_array, axis=0)\n",
    "    img_array /= 255.0\n",
    "\n",
    "    prediction = model.predict(img_array)\n",
    "    predicted_class = int(np.round(prediction)[0])\n",
    "\n",
    "    true_class = int(y_true[i])\n",
    "\n",
    "    plt.imshow(img)\n",
    "    plt.title(f\"True Class: {true_class}, Predicted Class: {predicted_class}\")\n",
    "    plt.axis('off')\n",
    "    plt.show()"
   ]
  }
 ],
 "metadata": {
  "language_info": {
   "name": "python"
  }
 },
 "nbformat": 4,
 "nbformat_minor": 2
}
