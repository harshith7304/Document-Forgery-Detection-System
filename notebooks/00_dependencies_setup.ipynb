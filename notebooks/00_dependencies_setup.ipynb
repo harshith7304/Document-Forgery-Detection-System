{
 "cells": [
  {
   "cell_type": "code",
   "execution_count": null,
   "metadata": {},
   "outputs": [],
   "source": [
    "import cv2\n",
    "import matplotlib.pyplot as plt\n",
    "import numpy as np\n",
    "from google.colab.patches import cv2_imshow\n",
    "from tensorflow.keras.models import Sequential, Model\n",
    "from tensorflow.keras.layers import Conv2D, MaxPooling2D, Dense, Flatten, Dropout, Input, concatenate, Activation, UpSampling2D, BatchNormalization, ZeroPadding2D, add, AveragePooling2D\n",
    "from PIL import Image\n",
    "from efficientnet.tfkeras import EfficientNetB0\n",
    "from tensorflow.keras.optimizers.legacy import RMSprop\n",
    "import segmentation_models as sm\n",
    "from random import shuffle\n",
    "from sklearn.utils import shuffle\n",
    "from tensorflow.keras.preprocessing import image\n",
    "import tensorflow as tf\n",
    "from tensorflow import keras\n",
    "import glob\n",
    "import json\n",
    "import os\n",
    "import shutil\n",
    "import random\n",
    "import itertools\n"
   ]
  },
  {
   "cell_type": "code",
   "execution_count": null,
   "metadata": {},
   "outputs": [],
   "source": [
    "repository_path = \"/content/indian-document-forgery-detection/dataset/images/ind_id/\"\n",
    "json_path = \"/content/indian-document-forgery-detection/dataset/annotations/ind_id.json\""
   ]
  }
 ],
 "metadata": {
  "language_info": {
   "name": "python"
  }
 },
 "nbformat": 4,
 "nbformat_minor": 2
}
